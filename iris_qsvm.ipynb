{
  "nbformat": 4,
  "nbformat_minor": 0,
  "metadata": {
    "colab": {
      "name": "iris_qsvm.ipynb",
      "provenance": [],
      "authorship_tag": "ABX9TyOwZ7f3Pq56T6DZhXxOAtHR",
      "include_colab_link": true
    },
    "kernelspec": {
      "name": "python3",
      "display_name": "Python 3"
    },
    "language_info": {
      "name": "python"
    }
  },
  "cells": [
    {
      "cell_type": "markdown",
      "metadata": {
        "id": "view-in-github",
        "colab_type": "text"
      },
      "source": [
        "<a href=\"https://colab.research.google.com/github/asifsmtp1/quantum-svm/blob/main/iris_qsvm.ipynb\" target=\"_parent\"><img src=\"https://colab.research.google.com/assets/colab-badge.svg\" alt=\"Open In Colab\"/></a>"
      ]
    },
    {
      "cell_type": "code",
      "metadata": {
        "id": "Bv6fmbOMPs03"
      },
      "source": [
        "pip install --upgrade qiskit==0.19.1"
      ],
      "execution_count": null,
      "outputs": []
    },
    {
      "cell_type": "code",
      "metadata": {
        "id": "1Vou7NMhP8Zz"
      },
      "source": [
        "import matplotlib.pyplot as plt\n",
        "import numpy as np\n",
        "from qiskit import BasicAer\n",
        "from qiskit.ml.datasets import *\n",
        "from qiskit.circuit.library import ZZFeatureMap, ZFeatureMap, PauliFeatureMap\n",
        "from qiskit.aqua.utils import split_dataset_to_data_and_labels, map_label_to_class_name\n",
        "from qiskit.aqua import QuantumInstance\n",
        "from qiskit.aqua.algorithms import QSVM, VQC\n",
        "\n",
        "# setup aqua logging\n",
        "import logging\n",
        "from qiskit.aqua import set_qiskit_aqua_logging"
      ],
      "execution_count": 2,
      "outputs": []
    },
    {
      "cell_type": "code",
      "metadata": {
        "colab": {
          "base_uri": "https://localhost:8080/",
          "height": 281
        },
        "id": "tmTCbdAwQCVn",
        "outputId": "46d276f9-666a-4b5f-b585-f092c0050bc8"
      },
      "source": [
        "sample_Total, training_input, test_input, class_labels = iris(\n",
        "    training_size=20,\n",
        "    test_size=10,\n",
        "    n=2,\n",
        "    plot_data=True\n",
        ")"
      ],
      "execution_count": 3,
      "outputs": [
        {
          "output_type": "display_data",
          "data": {
            "image/png": "[encoded data removed]",
            "text/plain": [
              "<Figure size 432x288 with 1 Axes>"
            ]
          },
          "metadata": {
            "needs_background": "light"
          }
        }
      ]
    },
    {
      "cell_type": "code",
      "metadata": {
        "colab": {
          "base_uri": "https://localhost:8080/"
        },
        "id": "wr_dJib_QL3H",
        "outputId": "43e1138d-cfb1-48b3-cd69-9f00a696a4d4"
      },
      "source": [
        "type(training_input)\n",
        "training_input"
      ],
      "execution_count": 4,
      "outputs": [
        {
          "output_type": "execute_result",
          "data": {
            "text/plain": [
              "{'A': array([[-0.71211036,  0.52027973],\n",
              "        [-0.69019091,  0.15274702],\n",
              "        [-0.8174161 , -0.27852344],\n",
              "        [-0.7603726 ,  0.24192863],\n",
              "        [-0.80617522, -0.18128913],\n",
              "        [-0.85829177,  0.41654031],\n",
              "        [-0.83273819, -0.13216301],\n",
              "        [-0.76233108,  0.08482331],\n",
              "        [-0.76854023, -0.27205974],\n",
              "        [-0.79163565, -0.19464096],\n",
              "        [-1.        ,  0.1659108 ],\n",
              "        [-0.83150192,  1.        ],\n",
              "        [-0.85270149,  0.04413292],\n",
              "        [-0.9275267 , -0.18509205],\n",
              "        [-0.8009166 ,  0.19164793],\n",
              "        [-0.87361532,  0.23648286],\n",
              "        [-0.94748622,  0.66596385],\n",
              "        [-0.81366512,  0.54964416],\n",
              "        [-0.80013263,  0.38505721],\n",
              "        [-0.83251277,  0.17400492]]), 'B': array([[ 0.13035346, -0.09108897],\n",
              "        [ 0.32479566, -0.03541634],\n",
              "        [-0.0991516 , -0.17077307],\n",
              "        [ 0.31433496, -0.61400133],\n",
              "        [-0.00883773, -0.2973718 ],\n",
              "        [ 0.15730988,  0.28290743],\n",
              "        [-0.03405964, -0.49401293],\n",
              "        [ 0.03959107, -0.22848399],\n",
              "        [ 0.19958694,  0.18412552],\n",
              "        [ 0.15227669,  0.2161383 ],\n",
              "        [ 0.05301499,  0.31009935],\n",
              "        [ 0.25657158,  0.18894638],\n",
              "        [-0.08058737, -0.59500876],\n",
              "        [ 0.19919495,  0.08742088],\n",
              "        [-0.01331092, -0.15048171],\n",
              "        [ 0.02700911, -0.07995106],\n",
              "        [-0.0360158 , -0.30277616],\n",
              "        [-0.12460039, -1.        ],\n",
              "        [ 0.00665237, -0.32677764],\n",
              "        [-0.05810414, -0.07412226]]), 'C': array([[ 1.00000000e+00, -3.69126300e-04],\n",
              "        [ 5.36965207e-01,  2.51146533e-01],\n",
              "        [ 3.60307050e-01,  2.52588899e-01],\n",
              "        [ 5.25835800e-01,  1.03577692e-01],\n",
              "        [ 5.24101289e-01, -7.37775798e-02],\n",
              "        [ 2.47454865e-01,  1.74298940e-02],\n",
              "        [ 4.99663354e-01, -7.70094281e-02],\n",
              "        [ 6.69672848e-01,  9.76609201e-01],\n",
              "        [ 5.26674855e-01,  1.37858217e-01],\n",
              "        [ 5.71354999e-01, -2.73079479e-01],\n",
              "        [ 5.82653880e-01,  3.17861834e-01],\n",
              "        [ 4.26012642e-01, -3.42538366e-01],\n",
              "        [ 2.92414645e-01, -2.68392838e-01],\n",
              "        [ 2.78043962e-01, -1.16162208e-01],\n",
              "        [ 3.54434803e-01,  1.51539240e-01],\n",
              "        [ 6.54795503e-01,  7.12203426e-01],\n",
              "        [ 8.16409031e-01,  2.92829999e-01],\n",
              "        [ 8.64277828e-01,  1.48058578e-01],\n",
              "        [ 3.50015243e-01, -1.87117296e-01],\n",
              "        [ 7.09600891e-01,  9.50435213e-01]])}"
            ]
          },
          "metadata": {},
          "execution_count": 4
        }
      ]
    },
    {
      "cell_type": "code",
      "metadata": {
        "colab": {
          "base_uri": "https://localhost:8080/"
        },
        "id": "aIvZugz0QOnu",
        "outputId": "f4b827a1-5a8b-471b-fb63-a631cf278396"
      },
      "source": [
        "class_labels"
      ],
      "execution_count": 5,
      "outputs": [
        {
          "output_type": "execute_result",
          "data": {
            "text/plain": [
              "['A', 'B', 'C']"
            ]
          },
          "metadata": {},
          "execution_count": 5
        }
      ]
    },
    {
      "cell_type": "code",
      "metadata": {
        "id": "YU3aRKEmQWvg"
      },
      "source": [
        "feature_dim=2"
      ],
      "execution_count": 7,
      "outputs": []
    },
    {
      "cell_type": "code",
      "metadata": {
        "colab": {
          "base_uri": "https://localhost:8080/"
        },
        "id": "ojaz10IMQRlx",
        "outputId": "3fed7e17-fea6-4599-e49a-f5354f4c999f"
      },
      "source": [
        "from qiskit.aqua.components.multiclass_extensions import AllPairs\n",
        "seed = 10598\n",
        "\n",
        "feature_map = ZZFeatureMap(feature_dimension=feature_dim, reps=2, entanglement='linear')\n",
        "\n",
        "qsvm = QSVM(feature_map, training_input, test_input,multiclass_extension = AllPairs())\n",
        "\n",
        "backend = BasicAer.get_backend('qasm_simulator')\n",
        "quantum_instance = QuantumInstance(backend, shots=1024, seed_simulator=seed, seed_transpiler=seed)\n",
        "\n",
        "result = qsvm.run(quantum_instance)\n",
        "\n",
        "print(\"testing success ratio: \", result['testing_accuracy'])"
      ],
      "execution_count": 8,
      "outputs": [
        {
          "output_type": "stream",
          "name": "stdout",
          "text": [
            "testing success ratio:  1.0\n"
          ]
        }
      ]
    },
    {
      "cell_type": "code",
      "metadata": {
        "colab": {
          "base_uri": "https://localhost:8080/",
          "height": 547
        },
        "id": "YpFTpR2IQmGn",
        "outputId": "1302a07e-e605-4b43-8080-398010187cf2"
      },
      "source": [
        "import qiskit.tools.jupyter\n",
        "%qiskit_version_table\n",
        "%qiskit_copyright"
      ],
      "execution_count": 9,
      "outputs": [
        {
          "output_type": "display_data",
          "data": {
            "text/html": [
              "<h3>Version Information</h3><table><tr><th>Qiskit Software</th><th>Version</th></tr><tr><td>Qiskit</td><td>0.19.1</td></tr><tr><td>Terra</td><td>0.14.1</td></tr><tr><td>Aer</td><td>0.5.1</td></tr><tr><td>Ignis</td><td>0.3.0</td></tr><tr><td>Aqua</td><td>0.7.0</td></tr><tr><td>IBM Q Provider</td><td>0.7.0</td></tr><tr><th>System information</th></tr><tr><td>Python</td><td>3.7.12 (default, Sep 10 2021, 00:21:48) \n",
              "[GCC 7.5.0]</td></tr><tr><td>OS</td><td>Linux</td></tr><tr><td>CPUs</td><td>1</td></tr><tr><td>Memory (Gb)</td><td>12.686656951904297</td></tr><tr><td colspan='2'>Sun Nov 14 02:24:15 2021 UTC</td></tr></table>"
            ],
            "text/plain": [
              "<IPython.core.display.HTML object>"
            ]
          },
          "metadata": {}
        },
        {
          "output_type": "display_data",
          "data": {
            "text/html": [
              "<div style='width: 100%; background-color:#d5d9e0;padding-left: 10px; padding-bottom: 10px; padding-right: 10px; padding-top: 5px'><h3>This code is a part of Qiskit</h3><p>&copy; Copyright IBM 2017, 2021.</p><p>This code is licensed under the Apache License, Version 2.0. You may<br>obtain a copy of this license in the LICENSE.txt file in the root directory<br> of this source tree or at http://www.apache.org/licenses/LICENSE-2.0.<p>Any modifications or derivative works of this code must retain this<br>copyright notice, and modified files need to carry a notice indicating<br>that they have been altered from the originals.</p></div>"
            ],
            "text/plain": [
              "<IPython.core.display.HTML object>"
            ]
          },
          "metadata": {}
        }
      ]
    }
  ]
}