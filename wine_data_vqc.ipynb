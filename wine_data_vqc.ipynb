{
  "nbformat": 4,
  "nbformat_minor": 0,
  "metadata": {
    "colab": {
      "name": "wine_data_vqc.ipynb",
      "provenance": [],
      "collapsed_sections": [],
      "authorship_tag": "ABX9TyP8NDck/UO/xcGA+imTxY6V",
      "include_colab_link": true
    },
    "kernelspec": {
      "name": "python3",
      "display_name": "Python 3"
    },
    "language_info": {
      "name": "python"
    }
  },
  "cells": [
    {
      "cell_type": "markdown",
      "metadata": {
        "id": "view-in-github",
        "colab_type": "text"
      },
      "source": [
        "<a href=\"https://colab.research.google.com/github/asifsmtp1/quantum-svm/blob/main/wine_data_vqc.ipynb\" target=\"_parent\"><img src=\"https://colab.research.google.com/assets/colab-badge.svg\" alt=\"Open In Colab\"/></a>"
      ]
    },
    {
      "cell_type": "code",
      "metadata": {
        "id": "AguSl-I5Hejd"
      },
      "source": [
        "!pip install qiskit-machine-learning"
      ],
      "execution_count": null,
      "outputs": []
    },
    {
      "cell_type": "code",
      "metadata": {
        "colab": {
          "base_uri": "https://localhost:8080/"
        },
        "id": "bquRAI9jHf2q",
        "outputId": "e67bd0d0-02ad-4311-ede6-9f5284b9f7de"
      },
      "source": [
        "        from qiskit import BasicAer\n",
        "        from qiskit.utils import QuantumInstance, algorithm_globals\n",
        "        from qiskit.algorithms.optimizers import COBYLA\n",
        "        from qiskit.circuit.library import TwoLocal\n",
        "        from qiskit_machine_learning.algorithms import VQC\n",
        "        from qiskit_machine_learning.datasets import wine\n",
        "        from qiskit_machine_learning.circuit.library import RawFeatureVector\n",
        "\n",
        "        seed = 1376\n",
        "        algorithm_globals.random_seed = seed\n",
        "\n",
        "        # Use Wine data set for training and test data\n",
        "        feature_dim = 4  # dimension of each data point\n",
        "        training_size = 12\n",
        "        test_size = 4\n",
        "\n",
        "        # training features, training labels, test features, test labels as np.array,\n",
        "        # one hot encoding for labels\n",
        "        training_features, training_labels, test_features, test_labels = \\\n",
        "            wine(training_size=training_size, test_size=test_size, n=feature_dim)\n",
        "\n",
        "        feature_map = RawFeatureVector(feature_dimension=feature_dim)\n",
        "        ansatz = TwoLocal(feature_map.num_qubits, ['ry', 'rz'], 'cz', reps=3)\n",
        "        vqc = VQC(feature_map=feature_map,\n",
        "                  ansatz=ansatz,\n",
        "                  optimizer=COBYLA(maxiter=100),\n",
        "                  quantum_instance=QuantumInstance(BasicAer.get_backend('statevector_simulator'),\n",
        "                                                   shots=1024,\n",
        "                                                   seed_simulator=seed,\n",
        "                                                   seed_transpiler=seed)\n",
        "                  )\n",
        "        vqc.fit(training_features, training_labels)\n",
        "\n",
        "        score = vqc.score(test_features, test_labels)\n",
        "        print(f\"Testing accuracy: {score:0.2f}\")"
      ],
      "execution_count": 3,
      "outputs": [
        {
          "output_type": "stream",
          "name": "stderr",
          "text": [
            "Cannot compute gradient operator! Continuing without gradients!\n"
          ]
        },
        {
          "output_type": "stream",
          "name": "stdout",
          "text": [
            "Testing accuracy: 1.00\n"
          ]
        }
      ]
    }
  ]
}